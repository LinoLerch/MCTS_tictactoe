{
 "cells": [
  {
   "cell_type": "code",
   "execution_count": 2,
   "metadata": {},
   "outputs": [],
   "source": [
    "import gymnasium\n",
    "import gym_examples\n",
    "import warnings\n",
    "warnings.filterwarnings(\"ignore\", category=DeprecationWarning)\n",
    "warnings.filterwarnings(\"ignore\", category=UserWarning)\n",
    "from tic_tac_toe_demo import tic_tac_toe_demo"
   ]
  },
  {
   "cell_type": "markdown",
   "metadata": {},
   "source": [
    "### MCTS Tic-Tac-Toe Demo"
   ]
  },
  {
   "cell_type": "code",
   "execution_count": 6,
   "metadata": {},
   "outputs": [
    {
     "name": "stdout",
     "output_type": "stream",
     "text": [
      "| | | |\n",
      "| | | |\n",
      "| | | |\n",
      "\n",
      "Agent (player 1): O \n",
      "Random opponent (player 2): X\n",
      "\n",
      "MCTS Iteration 1000/1000\n",
      " Action: None, visits: 1000,  value: 8.66, State: 0,\n",
      "    Action: (0, 7), visits: 2,  value: 5.0, State: 2187,\n",
      "    Action: (0, 2), visits: 18,  value: 7.78, State: 9,\n",
      "    Action: (0, 4), visits: 11,  value: 7.27, State: 81,\n",
      "    Action: (0, 8), visits: 834,  value: 8.78, State: 6561,\n",
      "    Action: (0, 6), visits: 2,  value: 5.0, State: 729,\n",
      "    Action: (0, 3), visits: 14,  value: 7.86, State: 27,\n",
      "    Action: (0, 5), visits: 12,  value: 7.5, State: 243,\n",
      "    Action: (0, 0), visits: 1,  value: 0.0, State: 1,\n",
      "    Action: (0, 1), visits: 106,  value: 8.49, State: 3,\n",
      "Selected action: (0, 8) Info: {'info': 'normal move player 1'}\n",
      "| | | |\n",
      "| | | |\n",
      "| | |O|\n",
      "\n",
      "Opponent action: (1, 3) Info: {'info': 'normal move player 2'}\n",
      "| | | |\n",
      "|X| | |\n",
      "| | |O|\n",
      "\n",
      "MCTS Iteration 1000/1000\n",
      " Action: (0, 8), visits: 1834,  value: 9.18, State: 6561,\n",
      "    Action: (0, 4), visits: 108,  value: 8.7, State: 81,\n",
      "    Action: (0, 1), visits: 1,  value: 0.0, State: 3,\n",
      "    Action: (0, 2), visits: 1277,  value: 9.38, State: 9,\n",
      "    Action: (0, 6), visits: 271,  value: 8.86, State: 729,\n",
      "    Action: (0, 7), visits: 5,  value: 6.0, State: 2187,\n",
      "    Action: (0, 0), visits: 16,  value: 8.12, State: 1,\n",
      "    Action: (0, 5), visits: 117,  value: 8.72, State: 243,\n",
      "Selected action: (0, 2) Info: {'info': 'normal move player 1'}\n",
      "| | |O|\n",
      "|X| | |\n",
      "| | |O|\n",
      "\n",
      "Opponent action: (1, 4) Info: {'info': 'normal move player 2'}\n",
      "| | |O|\n",
      "|X|X| |\n",
      "| | |O|\n",
      "\n",
      "MCTS Iteration 1000/1000\n",
      " Action: (0, 2), visits: 2277,  value: 9.65, State: 9,\n",
      "    Action: (0, 0), visits: 30,  value: 8.67, State: 1,\n",
      "    Action: (0, 5), visits: 3,  value: 6.67, State: 243,\n",
      "    Action: (0, 1), visits: 23,  value: 8.7, State: 3,\n",
      "    Action: (0, 6), visits: 100,  value: 9.1, State: 729,\n",
      "    Action: (0, 7), visits: 1013,  value: 9.98, State: 2187,\n",
      "Selected action: (0, 7) Info: {'info': 'normal move player 1'}\n",
      "| | |O|\n",
      "|X|X| |\n",
      "| |O|O|\n",
      "\n",
      "Opponent action: (1, 6) Info: {'info': 'normal move player 2'}\n",
      "| | |O|\n",
      "|X|X| |\n",
      "|X|O|O|\n",
      "\n",
      "MCTS Iteration 1000/1000\n",
      " Action: (0, 7), visits: 2013,  value: 9.99, State: 2187,\n",
      "    Action: (0, 5), visits: 835,  value: 10.0, State: 243,\n",
      "    Action: (0, 0), visits: 2,  value: 5.0, State: 1,\n",
      "    Action: (0, 1), visits: 834,  value: 10.0, State: 3,\n",
      "Selected action: (0, 5) Info: {'info': 'winning move player 1'}\n",
      "| | |O|\n",
      "|X|X|O|\n",
      "|X|O|O|\n",
      "\n",
      "Terminated {'info': 'winning move player 1'}\n",
      "Reward: 10\n"
     ]
    }
   ],
   "source": [
    "tic_tac_toe_demo()"
   ]
  }
 ],
 "metadata": {
  "kernelspec": {
   "display_name": "CS687-RL",
   "language": "python",
   "name": "python3"
  },
  "language_info": {
   "codemirror_mode": {
    "name": "ipython",
    "version": 3
   },
   "file_extension": ".py",
   "mimetype": "text/x-python",
   "name": "python",
   "nbconvert_exporter": "python",
   "pygments_lexer": "ipython3",
   "version": "3.9.7"
  }
 },
 "nbformat": 4,
 "nbformat_minor": 2
}
